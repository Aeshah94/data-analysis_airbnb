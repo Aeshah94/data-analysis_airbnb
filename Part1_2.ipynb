{
 "cells": [
  {
   "cell_type": "markdown",
   "metadata": {},
   "source": [
    "# CMT 309 Data Science Portfolio\n",
    "# Parts 1 and 2\n",
    "\n",
    "---"
   ]
  },
  {
   "cell_type": "code",
   "execution_count": 1,
   "metadata": {},
   "outputs": [],
   "source": [
    "#student number : C1986330  "
   ]
  },
  {
   "cell_type": "markdown",
   "metadata": {
    "id": "3Pe7XhS9wEVw"
   },
   "source": [
    "# Part 1 - Pre-processing and exploratory analysis\n",
    "\n",
    "Instructions:\n",
    "\n",
    "- Answer the questions by filling in the appropriate sections of this file. \n",
    "- Do not remove or rename section headings or any code that has been provided, unless instructed otherwise.\n",
    "- You can add as many additional cells with code as you like.\n",
    "\n",
    "Before submitting,\n",
    "\n",
    "- Ensure that the code is clean, readable, and well documented. \n",
    "- Restart the kernel (to wipe all variables) and then run the code from top to bottom to produce all intermediate outputs. "
   ]
  },
  {
   "cell_type": "code",
   "execution_count": 2,
   "metadata": {
    "colab": {
     "base_uri": "https://localhost:8080/"
    },
    "id": "acSREWbeG0mm",
    "outputId": "beeccebf-cce6-4ff7-bb6c-45988b8748f5"
   },
   "outputs": [],
   "source": [
    "import scipy, os\n",
    "import pandas as pd\n",
    "import numpy as np\n",
    "import seaborn as sns\n",
    "import matplotlib.pyplot as plt\n",
    "import statsmodels.api as sm\n",
    "from warnings import simplefilter\n",
    "# ignore all future warnings\n",
    "simplefilter(action='ignore', category=FutureWarning)\n",
    "# add more imports here if you like\n",
    "from scipy.stats import ttest_ind\n",
    "from scipy.spatial import distance\n",
    "import datetime\n",
    "from scipy import stats\n",
    "import statsmodels.api as s"
   ]
  },
  {
   "cell_type": "code",
   "execution_count": 3,
   "metadata": {
    "colab": {
     "base_uri": "https://localhost:8080/"
    },
    "id": "A6CTk1ZiFVIk",
    "outputId": "289693f3-8883-4104-f861-7b2a5c219e8a"
   },
   "outputs": [],
   "source": [
    "# if you use Google Colab:\n",
    "#from google.colab import drive\n",
    "#drive.mount('/content/drive')"
   ]
  },
  {
   "cell_type": "code",
   "execution_count": 4,
   "metadata": {
    "id": "ycIjzElBzG2x"
   },
   "outputs": [],
   "source": [
    "# change this line your folder where the data is found\n",
    "basedir = '/Users/auhh9/OneDrive/Desktop/CDS 309'"
   ]
  },
  {
   "cell_type": "markdown",
   "metadata": {
    "id": "vwuEFzzUKzJW"
   },
   "source": [
    "In this part you will be working with the  `listings.csv` data. To help you wrap around your head we will first provide some information on the main columns in the data.\n",
    "\n",
    "***Dataframe columns description***:\n",
    "\n",
    "- `id` - unique ID identifying the listing\n",
    "\n",
    "- `name` - title of the listing\n",
    "\n",
    "- `host_id` - unique ID for a host\n",
    "\n",
    "- `host_name` - first name of the host\n",
    "\n",
    "- `host_since` - date that the host first joined Airbnb\n",
    "\n",
    "- `host_is_superhost` - whether or not the host is a superhost, which is a mark of quality for the top-rated and most experienced hosts, and can increase your search ranking on Airbnb\n",
    "\n",
    "- `host_listings_count` - how many listings the host has in total\n",
    "\n",
    "- `host_has_profile_pic` - whether or not the host has a profile picture\n",
    "\n",
    "- `host_identity_verified` - whether or not the host has been verified with his passport\n",
    "\n",
    "- `neighbourhood_cleansed` - the borough the property is in\n",
    "\n",
    "- `latitude` and `longitude` - geolocation coordinates of the property\n",
    "\n",
    "- `property_type` - type of property, e.g. house or flat\n",
    "\n",
    "- `room_type` - type of listing, e.g. entire home, private room or shared room\n",
    "\n",
    "- `accommodates` - how many people the property accommodates\n",
    "\n",
    "- `bedrooms` - number of bedrooms\n",
    "\n",
    "- `beds` - number of beds\n",
    "\n",
    "- `price` - nightly advertised price (the target variable)\n",
    "\n",
    "- `minimum_nights` - the minimum length of stay\n",
    "\n",
    "- `maximum_nights` - the maximum length of stay\n",
    "\n",
    "- `availability_30` - how many nights are available to be booked in the next 30 days\n",
    "\n",
    "- `availability_60` - how many nights are available to be booked in the next 60 days\n",
    "\n",
    "- `availability_90` - how many nights are available to be booked in the next 90 days\n",
    "\n",
    "- `availability_365` - how many nights are available to be booked in the next 365 days\n",
    "\n",
    "- `number_of_reviews` - the number of reviews left for the property\n",
    "\n",
    "- `number_of_reviews_ltm` - the number of reviews left for the property in the last twelve months\n",
    "\n",
    "- `first_review` - the date of the first review\n",
    "\n",
    "- `last_review` - the date of the most recent review\n",
    "\n",
    "- `review_scores_rating` - guests can score properties overall from 1 to 5 stars\n",
    "\n",
    "- `review_scores_accuracy` - guests can score the accuracy of a property's description from 1 to 5 stars\n",
    "\n",
    "- `review_scores_cleanliness` - guests can score a property's cleanliness from 1 to 5 stars\n",
    "\n",
    "- `review_scores_checkin` - guests can score their check-in from 1 to 5 stars\n",
    "\n",
    "- `review_scores_communication` - guests can score a host's communication from 1 to 5 stars\n",
    "\n",
    "- `review_scores_location` - guests can score a property's location from 1 to 5 stars\n",
    "\n",
    "- `review_scores_value` - guests can score a booking's value for money from 1 to 5 stars\n",
    "\n",
    "- `instant_bookable` - whether or not the property can be instant booked (i.e. booked straight away, without having to message the host first and wait to be accepted)\n",
    "\n",
    "- `reviews_per_month` - calculated field of the average number of reviews left by guest each month\n",
    "\n",
    "\n",
    "The next two cells load the `listings.csv` file into a dataframe. Once loaded, start working on the subsequent questions."
   ]
  },
  {
   "cell_type": "code",
   "execution_count": 5,
   "metadata": {
    "id": "K4zobPQJzKAX"
   },
   "outputs": [],
   "source": [
    "### DO NOT CHANGE THIS CELL\n",
    "def load_csv(basedir):\n",
    "    return pd.read_csv(os.path.join(basedir, 'listings.csv'))"
   ]
  },
  {
   "cell_type": "code",
   "execution_count": 6,
   "metadata": {
    "colab": {
     "base_uri": "https://localhost:8080/",
     "height": 581
    },
    "id": "73pNEQSv5_WZ",
    "outputId": "8f8c9c0b-f9eb-466e-e047-9e7e4d40dbbe"
   },
   "outputs": [
    {
     "data": {
      "text/html": [
       "<div>\n",
       "<style scoped>\n",
       "    .dataframe tbody tr th:only-of-type {\n",
       "        vertical-align: middle;\n",
       "    }\n",
       "\n",
       "    .dataframe tbody tr th {\n",
       "        vertical-align: top;\n",
       "    }\n",
       "\n",
       "    .dataframe thead th {\n",
       "        text-align: right;\n",
       "    }\n",
       "</style>\n",
       "<table border=\"1\" class=\"dataframe\">\n",
       "  <thead>\n",
       "    <tr style=\"text-align: right;\">\n",
       "      <th></th>\n",
       "      <th>id</th>\n",
       "      <th>listing_url</th>\n",
       "      <th>scrape_id</th>\n",
       "      <th>last_scraped</th>\n",
       "      <th>name</th>\n",
       "      <th>description</th>\n",
       "      <th>neighborhood_overview</th>\n",
       "      <th>picture_url</th>\n",
       "      <th>host_id</th>\n",
       "      <th>host_url</th>\n",
       "      <th>...</th>\n",
       "      <th>review_scores_communication</th>\n",
       "      <th>review_scores_location</th>\n",
       "      <th>review_scores_value</th>\n",
       "      <th>license</th>\n",
       "      <th>instant_bookable</th>\n",
       "      <th>calculated_host_listings_count</th>\n",
       "      <th>calculated_host_listings_count_entire_homes</th>\n",
       "      <th>calculated_host_listings_count_private_rooms</th>\n",
       "      <th>calculated_host_listings_count_shared_rooms</th>\n",
       "      <th>reviews_per_month</th>\n",
       "    </tr>\n",
       "  </thead>\n",
       "  <tbody>\n",
       "    <tr>\n",
       "      <th>0</th>\n",
       "      <td>2818</td>\n",
       "      <td>https://www.airbnb.com/rooms/2818</td>\n",
       "      <td>20201212211823</td>\n",
       "      <td>2020-12-13</td>\n",
       "      <td>Quiet Garden View Room &amp; Super Fast WiFi</td>\n",
       "      <td>Quiet Garden View Room &amp; Super Fast WiFi&lt;br /&gt;...</td>\n",
       "      <td>Indische Buurt (\"Indies Neighborhood\") is a ne...</td>\n",
       "      <td>https://a0.muscache.com/pictures/10272854/8dcc...</td>\n",
       "      <td>3159</td>\n",
       "      <td>https://www.airbnb.com/users/show/3159</td>\n",
       "      <td>...</td>\n",
       "      <td>10.0</td>\n",
       "      <td>9.0</td>\n",
       "      <td>10.0</td>\n",
       "      <td>NaN</td>\n",
       "      <td>t</td>\n",
       "      <td>1</td>\n",
       "      <td>0</td>\n",
       "      <td>1</td>\n",
       "      <td>0</td>\n",
       "      <td>1.95</td>\n",
       "    </tr>\n",
       "    <tr>\n",
       "      <th>1</th>\n",
       "      <td>20168</td>\n",
       "      <td>https://www.airbnb.com/rooms/20168</td>\n",
       "      <td>20201212211823</td>\n",
       "      <td>2020-12-13</td>\n",
       "      <td>Studio with private bathroom in the centre 1</td>\n",
       "      <td>17th century Dutch townhouse in the heart of t...</td>\n",
       "      <td>Located just in between famous central canals....</td>\n",
       "      <td>https://a0.muscache.com/pictures/69979628/fd6a...</td>\n",
       "      <td>59484</td>\n",
       "      <td>https://www.airbnb.com/users/show/59484</td>\n",
       "      <td>...</td>\n",
       "      <td>10.0</td>\n",
       "      <td>10.0</td>\n",
       "      <td>9.0</td>\n",
       "      <td>NaN</td>\n",
       "      <td>t</td>\n",
       "      <td>2</td>\n",
       "      <td>0</td>\n",
       "      <td>2</td>\n",
       "      <td>0</td>\n",
       "      <td>2.58</td>\n",
       "    </tr>\n",
       "    <tr>\n",
       "      <th>2</th>\n",
       "      <td>25428</td>\n",
       "      <td>https://www.airbnb.com/rooms/25428</td>\n",
       "      <td>20201212211823</td>\n",
       "      <td>2020-12-13</td>\n",
       "      <td>Lovely apt in City Centre (w.lift) near Jordaan</td>\n",
       "      <td>Lovely apt in Centre ( lift &amp; fireplace) near ...</td>\n",
       "      <td>NaN</td>\n",
       "      <td>https://a0.muscache.com/pictures/138431/7079a9...</td>\n",
       "      <td>56142</td>\n",
       "      <td>https://www.airbnb.com/users/show/56142</td>\n",
       "      <td>...</td>\n",
       "      <td>10.0</td>\n",
       "      <td>10.0</td>\n",
       "      <td>10.0</td>\n",
       "      <td>NaN</td>\n",
       "      <td>f</td>\n",
       "      <td>1</td>\n",
       "      <td>1</td>\n",
       "      <td>0</td>\n",
       "      <td>0</td>\n",
       "      <td>0.14</td>\n",
       "    </tr>\n",
       "    <tr>\n",
       "      <th>3</th>\n",
       "      <td>27886</td>\n",
       "      <td>https://www.airbnb.com/rooms/27886</td>\n",
       "      <td>20201212211823</td>\n",
       "      <td>2020-12-13</td>\n",
       "      <td>Romantic, stylish B&amp;B houseboat in canal district</td>\n",
       "      <td>Stylish and romantic houseboat on fantastic hi...</td>\n",
       "      <td>Central, quiet, safe, clean and beautiful.</td>\n",
       "      <td>https://a0.muscache.com/pictures/02c2da9d-660e...</td>\n",
       "      <td>97647</td>\n",
       "      <td>https://www.airbnb.com/users/show/97647</td>\n",
       "      <td>...</td>\n",
       "      <td>10.0</td>\n",
       "      <td>10.0</td>\n",
       "      <td>10.0</td>\n",
       "      <td>NaN</td>\n",
       "      <td>t</td>\n",
       "      <td>1</td>\n",
       "      <td>0</td>\n",
       "      <td>1</td>\n",
       "      <td>0</td>\n",
       "      <td>2.01</td>\n",
       "    </tr>\n",
       "    <tr>\n",
       "      <th>4</th>\n",
       "      <td>28871</td>\n",
       "      <td>https://www.airbnb.com/rooms/28871</td>\n",
       "      <td>20201212211823</td>\n",
       "      <td>2020-12-13</td>\n",
       "      <td>Comfortable double room</td>\n",
       "      <td>&lt;b&gt;The space&lt;/b&gt;&lt;br /&gt;In a monumental house ri...</td>\n",
       "      <td>Flower market , Leidseplein , Rembrantsplein</td>\n",
       "      <td>https://a0.muscache.com/pictures/160889/362340...</td>\n",
       "      <td>124245</td>\n",
       "      <td>https://www.airbnb.com/users/show/124245</td>\n",
       "      <td>...</td>\n",
       "      <td>10.0</td>\n",
       "      <td>10.0</td>\n",
       "      <td>10.0</td>\n",
       "      <td>NaN</td>\n",
       "      <td>f</td>\n",
       "      <td>2</td>\n",
       "      <td>0</td>\n",
       "      <td>2</td>\n",
       "      <td>0</td>\n",
       "      <td>2.68</td>\n",
       "    </tr>\n",
       "  </tbody>\n",
       "</table>\n",
       "<p>5 rows × 74 columns</p>\n",
       "</div>"
      ],
      "text/plain": [
       "      id                         listing_url       scrape_id last_scraped  \\\n",
       "0   2818   https://www.airbnb.com/rooms/2818  20201212211823   2020-12-13   \n",
       "1  20168  https://www.airbnb.com/rooms/20168  20201212211823   2020-12-13   \n",
       "2  25428  https://www.airbnb.com/rooms/25428  20201212211823   2020-12-13   \n",
       "3  27886  https://www.airbnb.com/rooms/27886  20201212211823   2020-12-13   \n",
       "4  28871  https://www.airbnb.com/rooms/28871  20201212211823   2020-12-13   \n",
       "\n",
       "                                                name  \\\n",
       "0           Quiet Garden View Room & Super Fast WiFi   \n",
       "1       Studio with private bathroom in the centre 1   \n",
       "2    Lovely apt in City Centre (w.lift) near Jordaan   \n",
       "3  Romantic, stylish B&B houseboat in canal district   \n",
       "4                            Comfortable double room   \n",
       "\n",
       "                                         description  \\\n",
       "0  Quiet Garden View Room & Super Fast WiFi<br />...   \n",
       "1  17th century Dutch townhouse in the heart of t...   \n",
       "2  Lovely apt in Centre ( lift & fireplace) near ...   \n",
       "3  Stylish and romantic houseboat on fantastic hi...   \n",
       "4  <b>The space</b><br />In a monumental house ri...   \n",
       "\n",
       "                               neighborhood_overview  \\\n",
       "0  Indische Buurt (\"Indies Neighborhood\") is a ne...   \n",
       "1  Located just in between famous central canals....   \n",
       "2                                                NaN   \n",
       "3         Central, quiet, safe, clean and beautiful.   \n",
       "4       Flower market , Leidseplein , Rembrantsplein   \n",
       "\n",
       "                                         picture_url  host_id  \\\n",
       "0  https://a0.muscache.com/pictures/10272854/8dcc...     3159   \n",
       "1  https://a0.muscache.com/pictures/69979628/fd6a...    59484   \n",
       "2  https://a0.muscache.com/pictures/138431/7079a9...    56142   \n",
       "3  https://a0.muscache.com/pictures/02c2da9d-660e...    97647   \n",
       "4  https://a0.muscache.com/pictures/160889/362340...   124245   \n",
       "\n",
       "                                   host_url  ... review_scores_communication  \\\n",
       "0    https://www.airbnb.com/users/show/3159  ...                        10.0   \n",
       "1   https://www.airbnb.com/users/show/59484  ...                        10.0   \n",
       "2   https://www.airbnb.com/users/show/56142  ...                        10.0   \n",
       "3   https://www.airbnb.com/users/show/97647  ...                        10.0   \n",
       "4  https://www.airbnb.com/users/show/124245  ...                        10.0   \n",
       "\n",
       "  review_scores_location review_scores_value license instant_bookable  \\\n",
       "0                    9.0                10.0     NaN                t   \n",
       "1                   10.0                 9.0     NaN                t   \n",
       "2                   10.0                10.0     NaN                f   \n",
       "3                   10.0                10.0     NaN                t   \n",
       "4                   10.0                10.0     NaN                f   \n",
       "\n",
       "  calculated_host_listings_count calculated_host_listings_count_entire_homes  \\\n",
       "0                              1                                           0   \n",
       "1                              2                                           0   \n",
       "2                              1                                           1   \n",
       "3                              1                                           0   \n",
       "4                              2                                           0   \n",
       "\n",
       "  calculated_host_listings_count_private_rooms  \\\n",
       "0                                            1   \n",
       "1                                            2   \n",
       "2                                            0   \n",
       "3                                            1   \n",
       "4                                            2   \n",
       "\n",
       "  calculated_host_listings_count_shared_rooms reviews_per_month  \n",
       "0                                           0              1.95  \n",
       "1                                           0              2.58  \n",
       "2                                           0              0.14  \n",
       "3                                           0              2.01  \n",
       "4                                           0              2.68  \n",
       "\n",
       "[5 rows x 74 columns]"
      ]
     },
     "execution_count": 6,
     "metadata": {},
     "output_type": "execute_result"
    }
   ],
   "source": [
    "### DO NOT CHANGE THIS CELL\n",
    "df = load_csv(basedir)\n",
    "df.head()"
   ]
  },
  {
   "cell_type": "markdown",
   "metadata": {
    "id": "Pzc714QhKf3g"
   },
   "source": [
    "## Question 1a"
   ]
  },
  {
   "cell_type": "code",
   "execution_count": 7,
   "metadata": {
    "id": "8m6wSWKPJPLR"
   },
   "outputs": [],
   "source": [
    "# Do not rename the function, do not remove the return statement.\n",
    "# Just add code before the return statement to add the required functionality.\n",
    "def drop_cols(df):\n",
    "    \n",
    "  '''\n",
    "   funcation to remove specified columns of the original df.\n",
    "   \n",
    "  '''\n",
    "  \n",
    "  cols_to_drop = ['scrape_id','last_scraped','description','listing_url','neighbourhood','calendar_last_scraped',\n",
    "  'amenities','neighborhood_overview', 'picture_url','host_url', 'host_about', 'host_location',\n",
    "  'host_total_listings_count','host_thumbnail_url','host_picture_url', 'host_verifications','bathrooms_text',\n",
    "  'has_availability', 'minimum_minimum_nights','maximum_minimum_nights','minimum_maximum_nights','maximum_maximum_nights',\n",
    "  'minimum_nights_avg_ntm','maximum_nights_avg_ntm','number_of_reviews_l30d','calculated_host_listings_count',\n",
    "  'calculated_host_listings_count_entire_homes','calculated_host_listings_count_private_rooms','calculated_host_listings_count_shared_rooms']\n",
    "  df = df.drop(cols_to_drop, axis=1)\n",
    "  return df"
   ]
  },
  {
   "cell_type": "code",
   "execution_count": 8,
   "metadata": {
    "colab": {
     "base_uri": "https://localhost:8080/"
    },
    "id": "GpBDncpjFrDh",
    "outputId": "569c0e41-7392-43b4-a9ec-06aa9374b7a8"
   },
   "outputs": [
    {
     "data": {
      "text/plain": [
       "Index(['id', 'name', 'host_id', 'host_name', 'host_since',\n",
       "       'host_response_time', 'host_response_rate', 'host_acceptance_rate',\n",
       "       'host_is_superhost', 'host_neighbourhood', 'host_listings_count',\n",
       "       'host_has_profile_pic', 'host_identity_verified',\n",
       "       'neighbourhood_cleansed', 'neighbourhood_group_cleansed', 'latitude',\n",
       "       'longitude', 'property_type', 'room_type', 'accommodates', 'bathrooms',\n",
       "       'bedrooms', 'beds', 'price', 'minimum_nights', 'maximum_nights',\n",
       "       'calendar_updated', 'availability_30', 'availability_60',\n",
       "       'availability_90', 'availability_365', 'number_of_reviews',\n",
       "       'number_of_reviews_ltm', 'first_review', 'last_review',\n",
       "       'review_scores_rating', 'review_scores_accuracy',\n",
       "       'review_scores_cleanliness', 'review_scores_checkin',\n",
       "       'review_scores_communication', 'review_scores_location',\n",
       "       'review_scores_value', 'license', 'instant_bookable',\n",
       "       'reviews_per_month'],\n",
       "      dtype='object')"
      ]
     },
     "execution_count": 8,
     "metadata": {},
     "output_type": "execute_result"
    }
   ],
   "source": [
    "df = drop_cols(df)\n",
    "df.columns"
   ]
  },
  {
   "cell_type": "code",
   "execution_count": 9,
   "metadata": {
    "id": "JgsX31bPJLfc"
   },
   "outputs": [],
   "source": [
    "def drop_cols_na(df, threshold):\n",
    "    '''\n",
    "    drop columns according to the amount of NaN values they contain.\n",
    "    Parameters:\n",
    "    df: the datafream from step 1.\n",
    "    threshold : is a fraction between 0 and 1 .\n",
    "    '''\n",
    "  # a new variable called thresh to assign the desired threshold. \n",
    "    thresh = len(df)*threshold\n",
    "    df.dropna(thresh= thresh , axis = 1, inplace = True)\n",
    "    return df"
   ]
  },
  {
   "cell_type": "code",
   "execution_count": 10,
   "metadata": {
    "id": "y0DPwLXwSDGy"
   },
   "outputs": [],
   "source": [
    "df = drop_cols_na(df,0.5) # we assign threshhold here to 0.5."
   ]
  },
  {
   "cell_type": "markdown",
   "metadata": {
    "id": "y6SMYnVDKt1d"
   },
   "source": [
    "## Question 1b"
   ]
  },
  {
   "cell_type": "code",
   "execution_count": 11,
   "metadata": {
    "id": "lcw2iovWK-EN"
   },
   "outputs": [],
   "source": [
    "def binary_encoding(df):\n",
    "    '''Replacing columns with f/t with 0/1'''\n",
    "    df.replace({'f':   int (0), 't': int (1)}, inplace=True)\n",
    "    return df"
   ]
  },
  {
   "cell_type": "code",
   "execution_count": 12,
   "metadata": {
    "id": "aZ7BoRBhlbYV"
   },
   "outputs": [],
   "source": [
    "df = binary_encoding(df)"
   ]
  },
  {
   "cell_type": "code",
   "execution_count": 13,
   "metadata": {
    "id": "nKc_EqKdLDdV"
   },
   "outputs": [],
   "source": [
    "def add_host_days(df):\n",
    "    \n",
    "    '''adding a column that represents the number of days,\n",
    "    (with respect to the current date) that the host has been registered.\n",
    "    \n",
    "    '''\n",
    "\n",
    "  #First we need to define the format of host_since column.\n",
    "    df['host_since'] = pd.to_datetime(df.host_since)\n",
    "  \n",
    "    today = datetime.datetime(2021, 3, 31)\n",
    "    df['host_days'] = today - df['host_since']\n",
    "   \n",
    "   \n",
    "    return df"
   ]
  },
  {
   "cell_type": "code",
   "execution_count": 14,
   "metadata": {
    "id": "1KNvK2SKLEcW"
   },
   "outputs": [],
   "source": [
    "def convert_price(df):\n",
    "    '''\n",
    "    function to convert the prices into floating point numbers.\n",
    "    \n",
    "    '''\n",
    "    # use string.replace to get rid of string items in price column + regular exp\n",
    "    df = df.assign(price=df['price'].str.replace(r'$', ''))\n",
    "    df = df.assign(price=df['price'].str.replace(r',', ''))\n",
    "\n",
    "    #convert price to float type\n",
    "    df['price'] = df['price'].astype(float)\n",
    "\n",
    "    return df"
   ]
  },
  {
   "cell_type": "code",
   "execution_count": 15,
   "metadata": {
    "id": "MTGf_mt2iwwG"
   },
   "outputs": [],
   "source": [
    "df = add_host_days(df)\n",
    "df = convert_price(df)"
   ]
  },
  {
   "cell_type": "code",
   "execution_count": 16,
   "metadata": {},
   "outputs": [
    {
     "data": {
      "text/html": [
       "<div>\n",
       "<style scoped>\n",
       "    .dataframe tbody tr th:only-of-type {\n",
       "        vertical-align: middle;\n",
       "    }\n",
       "\n",
       "    .dataframe tbody tr th {\n",
       "        vertical-align: top;\n",
       "    }\n",
       "\n",
       "    .dataframe thead th {\n",
       "        text-align: right;\n",
       "    }\n",
       "</style>\n",
       "<table border=\"1\" class=\"dataframe\">\n",
       "  <thead>\n",
       "    <tr style=\"text-align: right;\">\n",
       "      <th></th>\n",
       "      <th>id</th>\n",
       "      <th>name</th>\n",
       "      <th>host_id</th>\n",
       "      <th>host_name</th>\n",
       "      <th>host_since</th>\n",
       "      <th>host_acceptance_rate</th>\n",
       "      <th>host_is_superhost</th>\n",
       "      <th>host_neighbourhood</th>\n",
       "      <th>host_listings_count</th>\n",
       "      <th>host_has_profile_pic</th>\n",
       "      <th>...</th>\n",
       "      <th>review_scores_rating</th>\n",
       "      <th>review_scores_accuracy</th>\n",
       "      <th>review_scores_cleanliness</th>\n",
       "      <th>review_scores_checkin</th>\n",
       "      <th>review_scores_communication</th>\n",
       "      <th>review_scores_location</th>\n",
       "      <th>review_scores_value</th>\n",
       "      <th>instant_bookable</th>\n",
       "      <th>reviews_per_month</th>\n",
       "      <th>host_days</th>\n",
       "    </tr>\n",
       "  </thead>\n",
       "  <tbody>\n",
       "    <tr>\n",
       "      <th>0</th>\n",
       "      <td>2818</td>\n",
       "      <td>Quiet Garden View Room &amp; Super Fast WiFi</td>\n",
       "      <td>3159</td>\n",
       "      <td>Daniel</td>\n",
       "      <td>2008-09-24</td>\n",
       "      <td>100%</td>\n",
       "      <td>1.0</td>\n",
       "      <td>Indische Buurt</td>\n",
       "      <td>1.0</td>\n",
       "      <td>1.0</td>\n",
       "      <td>...</td>\n",
       "      <td>98.0</td>\n",
       "      <td>10.0</td>\n",
       "      <td>10.0</td>\n",
       "      <td>10.0</td>\n",
       "      <td>10.0</td>\n",
       "      <td>9.0</td>\n",
       "      <td>10.0</td>\n",
       "      <td>1</td>\n",
       "      <td>1.95</td>\n",
       "      <td>4571 days</td>\n",
       "    </tr>\n",
       "    <tr>\n",
       "      <th>1</th>\n",
       "      <td>20168</td>\n",
       "      <td>Studio with private bathroom in the centre 1</td>\n",
       "      <td>59484</td>\n",
       "      <td>Alexander</td>\n",
       "      <td>2009-12-02</td>\n",
       "      <td>100%</td>\n",
       "      <td>0.0</td>\n",
       "      <td>Grachtengordel</td>\n",
       "      <td>2.0</td>\n",
       "      <td>1.0</td>\n",
       "      <td>...</td>\n",
       "      <td>89.0</td>\n",
       "      <td>10.0</td>\n",
       "      <td>10.0</td>\n",
       "      <td>10.0</td>\n",
       "      <td>10.0</td>\n",
       "      <td>10.0</td>\n",
       "      <td>9.0</td>\n",
       "      <td>1</td>\n",
       "      <td>2.58</td>\n",
       "      <td>4137 days</td>\n",
       "    </tr>\n",
       "    <tr>\n",
       "      <th>2</th>\n",
       "      <td>25428</td>\n",
       "      <td>Lovely apt in City Centre (w.lift) near Jordaan</td>\n",
       "      <td>56142</td>\n",
       "      <td>Joan</td>\n",
       "      <td>2009-11-20</td>\n",
       "      <td>57%</td>\n",
       "      <td>1.0</td>\n",
       "      <td>Grachtengordel</td>\n",
       "      <td>2.0</td>\n",
       "      <td>1.0</td>\n",
       "      <td>...</td>\n",
       "      <td>100.0</td>\n",
       "      <td>10.0</td>\n",
       "      <td>10.0</td>\n",
       "      <td>10.0</td>\n",
       "      <td>10.0</td>\n",
       "      <td>10.0</td>\n",
       "      <td>10.0</td>\n",
       "      <td>0</td>\n",
       "      <td>0.14</td>\n",
       "      <td>4149 days</td>\n",
       "    </tr>\n",
       "    <tr>\n",
       "      <th>3</th>\n",
       "      <td>27886</td>\n",
       "      <td>Romantic, stylish B&amp;B houseboat in canal district</td>\n",
       "      <td>97647</td>\n",
       "      <td>Flip</td>\n",
       "      <td>2010-03-23</td>\n",
       "      <td>100%</td>\n",
       "      <td>1.0</td>\n",
       "      <td>Westelijke Eilanden</td>\n",
       "      <td>1.0</td>\n",
       "      <td>1.0</td>\n",
       "      <td>...</td>\n",
       "      <td>99.0</td>\n",
       "      <td>10.0</td>\n",
       "      <td>10.0</td>\n",
       "      <td>10.0</td>\n",
       "      <td>10.0</td>\n",
       "      <td>10.0</td>\n",
       "      <td>10.0</td>\n",
       "      <td>1</td>\n",
       "      <td>2.01</td>\n",
       "      <td>4026 days</td>\n",
       "    </tr>\n",
       "  </tbody>\n",
       "</table>\n",
       "<p>4 rows × 40 columns</p>\n",
       "</div>"
      ],
      "text/plain": [
       "      id                                               name  host_id  \\\n",
       "0   2818           Quiet Garden View Room & Super Fast WiFi     3159   \n",
       "1  20168       Studio with private bathroom in the centre 1    59484   \n",
       "2  25428    Lovely apt in City Centre (w.lift) near Jordaan    56142   \n",
       "3  27886  Romantic, stylish B&B houseboat in canal district    97647   \n",
       "\n",
       "   host_name host_since host_acceptance_rate  host_is_superhost  \\\n",
       "0     Daniel 2008-09-24                 100%                1.0   \n",
       "1  Alexander 2009-12-02                 100%                0.0   \n",
       "2       Joan 2009-11-20                  57%                1.0   \n",
       "3       Flip 2010-03-23                 100%                1.0   \n",
       "\n",
       "    host_neighbourhood  host_listings_count  host_has_profile_pic  ...  \\\n",
       "0       Indische Buurt                  1.0                   1.0  ...   \n",
       "1       Grachtengordel                  2.0                   1.0  ...   \n",
       "2       Grachtengordel                  2.0                   1.0  ...   \n",
       "3  Westelijke Eilanden                  1.0                   1.0  ...   \n",
       "\n",
       "   review_scores_rating review_scores_accuracy  review_scores_cleanliness  \\\n",
       "0                  98.0                   10.0                       10.0   \n",
       "1                  89.0                   10.0                       10.0   \n",
       "2                 100.0                   10.0                       10.0   \n",
       "3                  99.0                   10.0                       10.0   \n",
       "\n",
       "   review_scores_checkin review_scores_communication review_scores_location  \\\n",
       "0                   10.0                        10.0                    9.0   \n",
       "1                   10.0                        10.0                   10.0   \n",
       "2                   10.0                        10.0                   10.0   \n",
       "3                   10.0                        10.0                   10.0   \n",
       "\n",
       "   review_scores_value  instant_bookable  reviews_per_month  host_days  \n",
       "0                 10.0                 1               1.95  4571 days  \n",
       "1                  9.0                 1               2.58  4137 days  \n",
       "2                 10.0                 0               0.14  4149 days  \n",
       "3                 10.0                 1               2.01  4026 days  \n",
       "\n",
       "[4 rows x 40 columns]"
      ]
     },
     "execution_count": 16,
     "metadata": {},
     "output_type": "execute_result"
    }
   ],
   "source": [
    "df.head(4)# print four cols to show changes."
   ]
  },
  {
   "cell_type": "markdown",
   "metadata": {
    "id": "F1T-93iSQoXO"
   },
   "source": [
    "## Question 1c: Answering questions.\n",
    "\n",
    "You do not need to write the answer. In each cell, provide the Pandas code that outputs the result. Each answer can be given with 1-2 lines of Python code. Example question and answer:\n",
    "\n",
    "```python\n",
    "# What is the total number of rows in the dataframe?\n",
    "df.shape[0]\n",
    "```\n",
    "\n",
    "Now over to you:"
   ]
  },
  {
   "cell_type": "code",
   "execution_count": 17,
   "metadata": {
    "colab": {
     "base_uri": "https://localhost:8080/"
    },
    "id": "gM3BRpVlni7z",
    "outputId": "627f63ee-841f-4a33-d42b-d68592613e26"
   },
   "outputs": [
    {
     "data": {
      "text/plain": [
       "4172"
      ]
     },
     "execution_count": 17,
     "metadata": {},
     "output_type": "execute_result"
    }
   ],
   "source": [
    "# How many hosts offer 2 or more properties for rent?\n",
    "df[df['host_listings_count']>=2].count()['host_id']"
   ]
  },
  {
   "cell_type": "code",
   "execution_count": 18,
   "metadata": {
    "colab": {
     "base_uri": "https://localhost:8080/"
    },
    "id": "angGfYJxpOJ5",
    "outputId": "9a71425f-c1fc-4e46-d100-b4acb3729fbe"
   },
   "outputs": [
    {
     "data": {
      "text/plain": [
       "8000.0"
      ]
     },
     "execution_count": 18,
     "metadata": {},
     "output_type": "execute_result"
    }
   ],
   "source": [
    "# What is the highest price for a listing?\n",
    "df['price'].max()\n"
   ]
  },
  {
   "cell_type": "code",
   "execution_count": 19,
   "metadata": {
    "colab": {
     "base_uri": "https://localhost:8080/"
    },
    "id": "WRiPS2fypnz3",
    "outputId": "02a948d4-3afc-414a-e188-4e0bdfa88fa4"
   },
   "outputs": [
    {
     "data": {
      "text/plain": [
       "46015289"
      ]
     },
     "execution_count": 19,
     "metadata": {},
     "output_type": "execute_result"
    }
   ],
   "source": [
    "# What is the ID of the listing that has the largest number of bedrooms?\n",
    "mxbedrooms = df['bedrooms'].max()\n",
    "(df[df['bedrooms'] == mxbedrooms ] )['id'].item()"
   ]
  },
  {
   "cell_type": "code",
   "execution_count": 20,
   "metadata": {
    "colab": {
     "base_uri": "https://localhost:8080/"
    },
    "id": "eu1cSceDnsM4",
    "outputId": "c5253373-ffd4-4fea-e8c2-9f42318492b7"
   },
   "outputs": [
    {
     "data": {
      "text/plain": [
       "array([  258273, 21946106], dtype=int64)"
      ]
     },
     "execution_count": 20,
     "metadata": {},
     "output_type": "execute_result"
    }
   ],
   "source": [
    "# What is the ID of the listing with the largest advertised price\n",
    "maxprice = df['price'].max()\n",
    "( df[df['price'] == maxprice ] )['id'].values[:]"
   ]
  },
  {
   "cell_type": "code",
   "execution_count": 21,
   "metadata": {
    "colab": {
     "base_uri": "https://localhost:8080/"
    },
    "id": "ZhzBksbCumZB",
    "outputId": "8f5c2b6f-bddd-4115-faa7-c672a7c67ac9"
   },
   "outputs": [
    {
     "data": {
      "text/plain": [
       "14433"
      ]
     },
     "execution_count": 21,
     "metadata": {},
     "output_type": "execute_result"
    }
   ],
   "source": [
    "# There are different room types. How many listings are there for the most common room type?\n",
    "common = df['room_type'].value_counts() # this will return the common room type which is entir home/apt\n",
    "common . max()"
   ]
  },
  {
   "cell_type": "code",
   "execution_count": 22,
   "metadata": {
    "colab": {
     "base_uri": "https://localhost:8080/"
    },
    "id": "clsRn8tEVw4a",
    "outputId": "99cd1a0f-12e9-46d3-e1db-83da28ef8c85"
   },
   "outputs": [
    {
     "data": {
      "text/plain": [
       "2382"
      ]
     },
     "execution_count": 22,
     "metadata": {},
     "output_type": "execute_result"
    }
   ],
   "source": [
    "# How many hosts are there that have been registered for more than 3000 days?\n",
    "df['host_days'] = df['host_days'].astype('timedelta64[D]') #convert col to just days.\n",
    "df[df['host_days']>3000].count()['host_id']"
   ]
  },
  {
   "cell_type": "markdown",
   "metadata": {
    "id": "_a4I7y_FsVI0"
   },
   "source": [
    "## Question 1d: Exploratory analyses"
   ]
  },
  {
   "cell_type": "markdown",
   "metadata": {
    "id": "IcA5tI8ftsFS"
   },
   "source": [
    "Produce a barplot of the average nightly price per neighbourhood as instructed in the Coursework proforma:"
   ]
  },
  {
   "cell_type": "code",
   "execution_count": 23,
   "metadata": {
    "id": "psZPbywKFV27"
   },
   "outputs": [],
   "source": [
    "def price_neighborhood(df):\n",
    "    #Calculate average nightly prices in different neighborhoods\n",
    "    avg_prices = df.groupby(['neighbourhood_cleansed'])['price'].mean()\n",
    "    \n",
    "    #Store them in a dataframe\n",
    "    avg_prices_df = pd.DataFrame(avg_prices).reset_index()\n",
    "\n",
    "    #Visualize the results\n",
    "    colors = sns.color_palette(\"Set2\")\n",
    "    sns.barplot(y = 'neighbourhood_cleansed', x = 'price', data = df, \n",
    "                 orient='h')\n",
    "    plt.xlabel('Average Price per Night ($)')\n",
    "    plt.ylabel('')\n",
    "    plt.title('Average Prices in Amsterdam Neighborhoods')\n",
    "    plt.subplots_adjust(left=0.35, right=0.9, top=0.95, bottom=0.07)\n",
    "    plt.grid(axis = 'x', linestyle = ' ', zorder=0)\n",
    "\n",
    "    return avg_prices_df"
   ]
  },
  {
   "cell_type": "code",
   "execution_count": 24,
   "metadata": {},
   "outputs": [
    {
     "data": {
      "image/png": "[encoded data removed]",
      "text/plain": [
       "<Figure size 720x288 with 1 Axes>"
      ]
     },
     "metadata": {
      "needs_background": "light"
     },
     "output_type": "display_data"
    }
   ],
   "source": [
    "#Average prices for different neighborhoods\n",
    "plt.rcParams['figure.figsize'] = [10, 4]\n",
    "all_avg = price_neighborhood(df);"
   ]
  },
  {
   "cell_type": "markdown",
   "metadata": {
    "id": "834GVr84yfAA"
   },
   "source": [
    "Plot a correlation matrix as instructed in the Coursework proforma:"
   ]
  },
  {
   "cell_type": "code",
   "execution_count": 25,
   "metadata": {
    "id": "fvS5_JdIFQbG"
   },
   "outputs": [
    {
     "data": {
      "image/png": "[encoded data removed]",
      "text/plain": [
       "<Figure size 720x288 with 2 Axes>"
      ]
     },
     "metadata": {
      "needs_background": "light"
     },
     "output_type": "display_data"
    }
   ],
   "source": [
    "# first part, create a correlation matrix with the 5 subitem that we interested in.\n",
    "coor_vals = df.loc[:,'review_scores_cleanliness':'review_scores_value'].corr()\n",
    "\n",
    "x_axis_labels = ['cleanliness','checkin','communication','location','value'] # labels for x-axis\n",
    "y_axis_labels = ['cleanliness','checkin','communication','location','value'] # labels for y-axis\n",
    "\n",
    "# create seabvorn heatmap with required labels\n",
    "pp = sns.heatmap(coor_vals, cmap=\"viridis\",square=True,xticklabels=x_axis_labels, yticklabels=y_axis_labels )\n",
    "pp.set_title('correlations between 5 review ratings subitems ')\n",
    "\n",
    "plt.show()"
   ]
  },
  {
   "cell_type": "markdown",
   "metadata": {
    "id": "834GVr84yfAA"
   },
   "source": [
    "Plot a geographical distribution as instructed in the Coursework proforma:"
   ]
  },
  {
   "cell_type": "code",
   "execution_count": 26,
   "metadata": {
    "id": "qbTja8fwFScc"
   },
   "outputs": [
    {
     "data": {
      "text/plain": [
       "Text(0.5, 1.0, 'nightly prices for the more expensive listings')"
      ]
     },
     "execution_count": 26,
     "metadata": {},
     "output_type": "execute_result"
    },
    {
     "data": {
      "image/png": "[encoded data removed]",
      "text/plain": [
       "<Figure size 576x432 with 1 Axes>"
      ]
     },
     "metadata": {
      "needs_background": "light"
     },
     "output_type": "display_data"
    }
   ],
   "source": [
    "plt.figure(figsize=(8,6)) #figur size.\n",
    "# include listing with price grater than 150.\n",
    "dfneww = df[df.price > 150] \n",
    "\n",
    "sns.scatterplot(y='latitude',x='longitude',data=dfneww,hue='price',palette='gist_rainbow',size='price',sizes=(10, 300) )\n",
    "\n",
    "# place the legend outside the figure/plot\n",
    "plt.legend(bbox_to_anchor=(1.15, 1),borderaxespad=0,title = 'prices')\n",
    "plt.title(\"nightly prices for the more expensive listings\")"
   ]
  },
  {
   "cell_type": "markdown",
   "metadata": {
    "id": "0dLbkYk6y9eF"
   },
   "source": [
    "---\n",
    "\n",
    "# Part 2: Statistical analysis and recommender system\n",
    "## CMT 309 Data Science Portfolio\n",
    "\n",
    "Instructions:\n",
    "\n",
    "- Answer the questions by filling in the appropriate sections. \n",
    "- Do not remove or rename section headings or any code that has been provided, unless instructed otherwise.\n",
    "- You can add as many additional cells with code as you like.\n",
    "- Sometimes you are asked to provide an answer or justification. To this end, double-click on the text cells and add your answer/explanation following the text \"YOUR ANSWER:\".\n",
    "\n",
    "Before submitting,\n",
    "\n",
    "- Ensure that the code is clean, readable, and well documented. \n",
    "- Restart the kernel (to wipe all variables) and then run the code from top to bottom to produce all intermediate outputs. "
   ]
  },
  {
   "cell_type": "markdown",
   "metadata": {
    "id": "jtpZraSiE00A"
   },
   "source": [
    "## Question 2a: Linear regression and t-tests\n"
   ]
  },
  {
   "cell_type": "code",
   "execution_count": 27,
   "metadata": {
    "id": "RDCTzGiooPDJ"
   },
   "outputs": [
    {
     "name": "stdout",
     "output_type": "stream",
     "text": [
      "                            OLS Regression Results                            \n",
      "==============================================================================\n",
      "Dep. Variable:         overall_rating   R-squared:                       0.726\n",
      "Model:                            OLS   Adj. R-squared:                  0.726\n",
      "Method:                 Least Squares   F-statistic:                     7008.\n",
      "Date:                Wed, 19 May 2021   Prob (F-statistic):               0.00\n",
      "Time:                        04:05:03   Log-Likelihood:                -42957.\n",
      "No. Observations:               15880   AIC:                         8.593e+04\n",
      "Df Residuals:                   15873   BIC:                         8.598e+04\n",
      "Df Model:                           6                                         \n",
      "Covariance Type:            nonrobust                                         \n",
      "=================================================================================\n",
      "                    coef    std err          t      P>|t|      [0.025      0.975]\n",
      "---------------------------------------------------------------------------------\n",
      "Intercept        -0.3169      0.550     -0.577      0.564      -1.394       0.760\n",
      "accuracy          2.6153      0.056     46.889      0.000       2.506       2.725\n",
      "cleanliness       2.1438      0.041     52.279      0.000       2.063       2.224\n",
      "checkin           1.0232      0.060     16.913      0.000       0.905       1.142\n",
      "communication     1.8090      0.066     27.490      0.000       1.680       1.938\n",
      "location          0.3988      0.045      8.858      0.000       0.311       0.487\n",
      "value             1.9905      0.047     42.354      0.000       1.898       2.083\n",
      "==============================================================================\n",
      "Omnibus:                     4769.894   Durbin-Watson:                   1.991\n",
      "Prob(Omnibus):                  0.000   Jarque-Bera (JB):            90176.958\n",
      "Skew:                          -0.965   Prob(JB):                         0.00\n",
      "Kurtosis:                      14.514   Cond. No.                         450.\n",
      "==============================================================================\n",
      "\n",
      "Notes:\n",
      "[1] Standard Errors assume that the covariance matrix of the errors is correctly specified.\n"
     ]
    }
   ],
   "source": [
    "# assinge these virables to new ones short and readable.\n",
    "overall_rating = df['review_scores_rating']\n",
    "accuracy = df['review_scores_accuracy']\n",
    "cleanliness = df['review_scores_cleanliness']\n",
    "checkin = df['review_scores_checkin']\n",
    "communication = df['review_scores_communication']\n",
    "location = df['review_scores_location']\n",
    "value = df['review_scores_value'] \n",
    "\n",
    "# linear regression formula + fit to the model.\n",
    "mod = sm.OLS.from_formula('overall_rating ~ accuracy + cleanliness + checkin + communication + location + value', df).fit()\n",
    "print(mod.summary())"
   ]
  },
  {
   "cell_type": "markdown",
   "metadata": {
    "id": "i9Lalo7srWMr"
   },
   "source": [
    "**T-test questions**:\n",
    "\n",
    "Which room types are significantly different in terms of nightly price?\n",
    "\n",
    "YOUR ANSWER (1-2 sentences): Entire Home vs private room has the significant difference having p-value 0.0000000 followings by private room vs hotel room with p-value 0.00005m .Then Entire_home vs shared_room with a p-value of 0.00217  and Entire_home vs hotel_room p-value: 0.0029.\n",
    "\n",
    "Do the significances change if you perform Bonferroni correction to the alpha level: https://en.wikipedia.org/wiki/Bonferroni_correction ?\n",
    "\n",
    "YOUR ANSWER (1-2 sentences): Our conclusion won't change because  Bonferroni's adjustment is calculated by taking the number of tests and dividing it into the alpha value. Using the 0.01 error rate from our example, four tests would yield an error rate of 0.0025 or (.01/4) while six tests would therefore have an error rate of 0.00166 or (.01/6)\n"
   ]
  },
  {
   "cell_type": "code",
   "execution_count": 28,
   "metadata": {
    "id": "1gk4SDcE26Qq"
   },
   "outputs": [],
   "source": [
    "# extract each room type\n",
    "# and put them in  different dataframes\n",
    "Entire_home = df[df.room_type == 'Entire home/apt']['price'].dropna()\n",
    "private_room = df[df.room_type == 'Private room']['price'].dropna()\n",
    "hotel_room = df[df.room_type == 'Hotel room']['price'].dropna()\n",
    "shared_room = df[df.room_type == 'Shared room']['price'].dropna()\n"
   ]
  },
  {
   "cell_type": "code",
   "execution_count": 29,
   "metadata": {
    "scrolled": true
   },
   "outputs": [
    {
     "name": "stdout",
     "output_type": "stream",
     "text": [
      "Entire_home vs private_room p-value: 0.0000000000\n",
      "private_room vs hotel_room p-value: 0.0000596655\n",
      "hotel_room vs shared_room p-value: 0.3121192503\n",
      "Entire_home vs shared_room p-value: 0.0021768319\n",
      "Entire_home vs hotel_room p-value: 0.0029292209\n",
      "private_room vs shared_room p-value: 0.4516928879\n"
     ]
    }
   ],
   "source": [
    "alpha = 0.01\n",
    "# it's significant when p-value < 0.01 (alpha)\n",
    " \n",
    "print('Entire_home vs private_room p-value: {:.10f}'.format(ttest_ind(Entire_home, private_room).pvalue))\n",
    "print('private_room vs hotel_room p-value: {:.10f}'.format(ttest_ind(private_room, hotel_room).pvalue))\n",
    "print('hotel_room vs shared_room p-value: {:.10f}'.format(ttest_ind(hotel_room, shared_room).pvalue))\n",
    "print('Entire_home vs shared_room p-value: {:.10f}'.format(ttest_ind(Entire_home, shared_room).pvalue))\n",
    "print('Entire_home vs hotel_room p-value: {:.10f}'.format(ttest_ind(Entire_home, hotel_room).pvalue))\n",
    "print('private_room vs shared_room p-value: {:.10f}'.format(ttest_ind(private_room, shared_room).pvalue))"
   ]
  },
  {
   "cell_type": "code",
   "execution_count": 30,
   "metadata": {},
   "outputs": [
    {
     "data": {
      "text/html": [
       "<div>\n",
       "<style scoped>\n",
       "    .dataframe tbody tr th:only-of-type {\n",
       "        vertical-align: middle;\n",
       "    }\n",
       "\n",
       "    .dataframe tbody tr th {\n",
       "        vertical-align: top;\n",
       "    }\n",
       "\n",
       "    .dataframe thead th {\n",
       "        text-align: right;\n",
       "    }\n",
       "</style>\n",
       "<table border=\"1\" class=\"dataframe\">\n",
       "  <thead>\n",
       "    <tr style=\"text-align: right;\">\n",
       "      <th></th>\n",
       "      <th>private_room</th>\n",
       "      <th>hotel_room</th>\n",
       "      <th>Entire_home</th>\n",
       "      <th>shared_room</th>\n",
       "    </tr>\n",
       "  </thead>\n",
       "  <tbody>\n",
       "    <tr>\n",
       "      <th>private_room</th>\n",
       "      <td>1.000000e+00</td>\n",
       "      <td>0.000060</td>\n",
       "      <td>3.624982e-184</td>\n",
       "      <td>0.451693</td>\n",
       "    </tr>\n",
       "    <tr>\n",
       "      <th>hotel_room</th>\n",
       "      <td>5.966552e-05</td>\n",
       "      <td>1.000000</td>\n",
       "      <td>2.929221e-03</td>\n",
       "      <td>0.312119</td>\n",
       "    </tr>\n",
       "    <tr>\n",
       "      <th>Entire_home</th>\n",
       "      <td>3.624982e-184</td>\n",
       "      <td>0.002929</td>\n",
       "      <td>1.000000e+00</td>\n",
       "      <td>0.002177</td>\n",
       "    </tr>\n",
       "    <tr>\n",
       "      <th>shared_room</th>\n",
       "      <td>4.516929e-01</td>\n",
       "      <td>0.312119</td>\n",
       "      <td>2.176832e-03</td>\n",
       "      <td>1.000000</td>\n",
       "    </tr>\n",
       "  </tbody>\n",
       "</table>\n",
       "</div>"
      ],
      "text/plain": [
       "               private_room  hotel_room    Entire_home  shared_room\n",
       "private_room   1.000000e+00    0.000060  3.624982e-184     0.451693\n",
       "hotel_room     5.966552e-05    1.000000   2.929221e-03     0.312119\n",
       "Entire_home   3.624982e-184    0.002929   1.000000e+00     0.002177\n",
       "shared_room    4.516929e-01    0.312119   2.176832e-03     1.000000"
      ]
     },
     "execution_count": 30,
     "metadata": {},
     "output_type": "execute_result"
    }
   ],
   "source": [
    "#assign each test to a variable to go in a different cell of a data frame. \n",
    "a = scipy.stats.ttest_ind(private_room,hotel_room).pvalue\n",
    "b = scipy.stats.ttest_ind(hotel_room, shared_room).pvalue\n",
    "c = scipy.stats.ttest_ind(Entire_home, shared_room).pvalue\n",
    "d = scipy.stats.ttest_ind(Entire_home, hotel_room).pvalue\n",
    "e = scipy.stats.ttest_ind(private_room, shared_room).pvalue\n",
    "h = scipy.stats.ttest_ind(private_room, Entire_home).pvalue\n",
    "g = scipy.stats.ttest_ind(hotel_room, Entire_home).pvalue\n",
    "\n",
    "# let's convert to a dataframe\n",
    "dfstat = pd.DataFrame({'private_room':[1,a,h,e] ,'hotel_room': [a,1,d,b] ,'Entire_home':[h,d,1,c]  ,'shared_room' : [e,b,c,1] },index = ['private_room', 'hotel_room', 'Entire_home', 'shared_room'])\n",
    "dfstat\n",
    "\n"
   ]
  },
  {
   "cell_type": "markdown",
   "metadata": {
    "id": "t8mwnrOhboSC"
   },
   "source": [
    "## Question 2b: Linear regression with variable selection"
   ]
  },
  {
   "cell_type": "markdown",
   "metadata": {
    "id": "Z5aMn9YWrNnI"
   },
   "source": [
    "Provide a short justification (2-3 sentences) for your choice of variables.\n",
    "\n",
    "YOUR ANSWER: The most important fetures that usually  people look at and in the same time participate changing the price were choose: room type,accommodates,bedrooms,beds,maximum_nights,minimum_nights,number_of_reviews,availability_365,availability_30,availability_60,availability_90,reviews_per_month,review_scores_cleanliness,review_scores_rating,host_is_superhost,host_listings_count,host_identity_verified."
   ]
  },
  {
   "cell_type": "code",
   "execution_count": 31,
   "metadata": {
    "id": "FWj8vwcLFIUL"
   },
   "outputs": [],
   "source": [
    "#drop nan values.\n",
    "df=df.dropna()"
   ]
  },
  {
   "cell_type": "code",
   "execution_count": 32,
   "metadata": {},
   "outputs": [],
   "source": [
    "#identifying predictor variables for the model\n",
    "predictor= ['Entire home/apt','Hotel room','Private room','Shared room','host_is_superhost','host_listings_count','host_identity_verified'\n",
    "        ,'accommodates','bedrooms','beds','maximum_nights','minimum_nights','number_of_reviews','availability_365','availability_30','availability_60'\n",
    "           ,'availability_90', 'reviews_per_month','review_scores_cleanliness','review_scores_rating']"
   ]
  },
  {
   "cell_type": "code",
   "execution_count": 33,
   "metadata": {},
   "outputs": [],
   "source": [
    " #target variable is price\n",
    "target= df['price']"
   ]
  },
  {
   "cell_type": "code",
   "execution_count": 34,
   "metadata": {},
   "outputs": [],
   "source": [
    "#dummy variables for the categorical column room type\n",
    "newdf=pd.get_dummies(df['room_type'])"
   ]
  },
  {
   "cell_type": "code",
   "execution_count": 35,
   "metadata": {},
   "outputs": [],
   "source": [
    "#joining the dummy dataframe with the orignal dataframe.\n",
    "df=pd.concat([df,newdf,],axis=1)"
   ]
  },
  {
   "cell_type": "code",
   "execution_count": 36,
   "metadata": {},
   "outputs": [],
   "source": [
    "empty_set_variable= set()\n",
    "def variable_selection(df, predictors, target, alpha):\n",
    "    '''\n",
    "    variable selection function =variables get iteratively added or removed from the regression model.\n",
    "    \n",
    "    Parameters:\n",
    "    \n",
    "    df:the listings dataframe.\n",
    "    predictors:a list with your initial selection.\n",
    "    target:the target variable for the regression.\n",
    "    alpha:the significance level for selecting significant predictors.\n",
    "    \n",
    "    Returns:\n",
    "    pred: the selected subset of the original predictors.\n",
    "    '''\n",
    "    for i in range(len(predictors)):\n",
    "        a= predictors[i]\n",
    "        X= df[a]\n",
    "        y= target\n",
    "        #Linear regression model fitting\n",
    "        model = sm.OLS(y, X.astype(float)).fit()\n",
    "        #print('Parameters: ', model.params)\n",
    "        #print('R2: ', model.rsquared)\n",
    "        #print('P- Values, ', model.pvalues)\n",
    "        #getting p-values\n",
    "        p= str(model.pvalues).split()\n",
    "        for num in p:\n",
    "            try:#extracting p-values from string\n",
    "                c= str(float(num.replace(',', '.')))\n",
    "                #condition check for p values\n",
    "                if float(c) <= alpha:\n",
    "                    empty_set_variable.add(a)\n",
    "            except ValueError:\n",
    "                pass\n",
    "     #return the predictor variables having p value less than alpha.        \n",
    "    return (empty_set_variable)\n",
    "           "
   ]
  },
  {
   "cell_type": "code",
   "execution_count": 37,
   "metadata": {},
   "outputs": [
    {
     "data": {
      "text/plain": [
       "{'Entire home/apt',\n",
       " 'Hotel room',\n",
       " 'Private room',\n",
       " 'accommodates',\n",
       " 'availability_30',\n",
       " 'availability_365',\n",
       " 'availability_60',\n",
       " 'availability_90',\n",
       " 'bedrooms',\n",
       " 'beds',\n",
       " 'host_identity_verified',\n",
       " 'host_is_superhost',\n",
       " 'host_listings_count',\n",
       " 'maximum_nights',\n",
       " 'minimum_nights',\n",
       " 'number_of_reviews',\n",
       " 'review_scores_cleanliness',\n",
       " 'review_scores_rating',\n",
       " 'reviews_per_month'}"
      ]
     },
     "execution_count": 37,
     "metadata": {},
     "output_type": "execute_result"
    }
   ],
   "source": [
    "variable_selection(df, predictor, target, 0.05) # we ues 0.05 as alpha value."
   ]
  },
  {
   "cell_type": "markdown",
   "metadata": {
    "id": "lzz5uexvkgil"
   },
   "source": [
    "## Question 2c: Recommendation systems"
   ]
  },
  {
   "cell_type": "markdown",
   "metadata": {
    "id": "uW-LealN0kOU"
   },
   "source": [
    "### Recommend a neighbourhood given a budget"
   ]
  },
  {
   "cell_type": "code",
   "execution_count": 38,
   "metadata": {
    "id": "DqUlxeDk4Hww"
   },
   "outputs": [],
   "source": [
    "def recommend_neighbourhood(df, budget_min, budget_max, relative):\n",
    "    '''\n",
    "    function that Recommend a neighbourhood given a specific budget .\n",
    "    \n",
    "    Parameters:\n",
    "    df :listings dataframe.\n",
    "    budget_min and budget_max:floating point numbers representing the budget bracket.\n",
    "    relative :a Boolean specifying whether relative numbers (fractions) should be considered in the recommendation.\n",
    "    \n",
    "    Returns:\n",
    "    the function return neighbourhood names in a city that offer accommodation \n",
    "    that matches the entered user budget bracket.\n",
    "    '''\n",
    "    #making a new datafame within given price range.\n",
    "    df_new= df.loc[(df['price'] >= budget_min) & (df['price'] <= budget_max)]\n",
    "    prop= ['accommodates', 'bedrooms', 'beds']\n",
    "    if relative== True:\n",
    "        name=[]\n",
    "        sum_p=[]\n",
    "        for i in range(len(df_new)):\n",
    "            name.append(df_new['neighbourhood_cleansed'])\n",
    "            #calculating properties of neighborhood\n",
    "            sum_p.append(df_new['bedrooms']+ df_new['beds']+ df_new['accommodates'])\n",
    "        \n",
    "        for j in range(len(name)):\n",
    "            a= list(zip(name[i], sum_p[i]))\n",
    "            \n",
    "        #new dataframe for properties size.\n",
    "        df_prop= pd.DataFrame(a)\n",
    "        df_prop.columns=['neighbourhood_cleansed','Properties']\n",
    "        #sorting properties datafrme\n",
    "        df_prop_sort= df_prop.sort_values(by=['Properties'], ascending=False).reset_index(drop=True)\n",
    "        #print top 15 neighborhood names.\n",
    "        return( df_prop_sort['neighbourhood_cleansed'][1])#here we could decide how many neighbourhoods we want?\n",
    "        #return( df_prop_sort['neighbourhood_cleansed'][:5])  # 2? 5? .                                                \n",
    "    #for absolute search.\n",
    "    elif relative== False:\n",
    "        name=[]\n",
    "        sum_p=[]\n",
    "        for i in range(len(df_new)):\n",
    "            name.append(df_new['neighbourhood_cleansed'])\n",
    "             #calculating properties of neighborhood\n",
    "            sum_p.append(df_new['bedrooms']+ df_new['beds']+ df_new['accommodates'])\n",
    "        \n",
    "        for j in range(len(name)):\n",
    "            a= list(zip(name[i], sum_p[i]))\n",
    "    \n",
    "        df_prop= pd.DataFrame(a)\n",
    "        df_prop.columns=['neighbourhood_cleansed','Properties']\n",
    "        #sorting properties datafrme\n",
    "        df_prop_sort= df_prop.sort_values(by=['Properties'], ascending=False).reset_index(drop=True)\n",
    "        #print top neighborhood name.\n",
    "        return( df_prop_sort['neighbourhood_cleansed'][1])"
   ]
  },
  {
   "cell_type": "code",
   "execution_count": 39,
   "metadata": {},
   "outputs": [
    {
     "data": {
      "text/plain": [
       "'Noord-West'"
      ]
     },
     "execution_count": 39,
     "metadata": {},
     "output_type": "execute_result"
    }
   ],
   "source": [
    "recommend_neighbourhood(df,50,100, False) # function call with any values of User enter."
   ]
  },
  {
   "cell_type": "markdown",
   "metadata": {
    "id": "a-FSWRJ6zSMM"
   },
   "source": [
    "### Price recommender for hosts"
   ]
  },
  {
   "cell_type": "code",
   "execution_count": 40,
   "metadata": {
    "id": "DqUlxeDk4Hww"
   },
   "outputs": [],
   "source": [
    "def recommend_price(df, latitude, longitude, n_neighbours, room_type):\n",
    "    '''\n",
    "    The function will recommend nightly prices for new hosts \n",
    "    as a suggestion based on geographically closest properties and other features.\n",
    "    \n",
    "    Parameters:\n",
    "    \n",
    "    df :listings dataframe\n",
    "    latitude and longitude:representing geolocation of the property\n",
    "    n_neighbours:the number of neighbouring properties the user wants to take into account.\n",
    "    room_type: if specified, restricts the neighbours search to properties of the given room type,\n",
    "    if None means that any property type is considered.\n",
    "    \n",
    "    Returns:\n",
    "    The function call will return the mean nightly price for the user entered specifications.\n",
    "    \n",
    "    '''\n",
    "    #if room typpe is deifined.\n",
    "    if room_type !=\"None\":\n",
    "        dist=[]\n",
    "        #df of that specific room type.\n",
    "        df= df[df['room_type']== room_type]\n",
    "        geo_loc= (latitude,longitude)\n",
    "        #zip and list the longitude and lattitude.\n",
    "        loc= list(zip(df['latitude'], df['longitude']))\n",
    "        for i in range(len(loc)):\n",
    "            a= loc[i]\n",
    "             #calculate eucleadian distance.\n",
    "            dist.append(distance.euclidean(geo_loc, a))\n",
    "        df.insert(loc= 1,column='Distance',\n",
    "        value=dist)   \n",
    "       \n",
    "        #sorting for the shortest distance.\n",
    "        df_dist_sort= df.sort_values(by=['Distance']).reset_index(drop=True)\n",
    "        #deifining number of neighbors.\n",
    "        price= df_dist_sort['price'][:n_neighbours]\n",
    "        #recommending mean price\n",
    "        print(\"Mean price: \", price.mean())\n",
    "    #when room type is not defined.\n",
    "    else:\n",
    "        dist=[]\n",
    "        geo_loc= (latitude,longitude)\n",
    "        #zip and list the longitude and lattitude.\n",
    "        loc= list(zip(df['latitude'], df['longitude']))\n",
    "        for i in range(len(loc)):\n",
    "            a= loc[i]\n",
    "             #calculate eucleadian distance.\n",
    "            dist.append(distance.euclidean(geo_loc, a))\n",
    "        df.insert(loc= 1,column='Distance',\n",
    "        value=dist)   \n",
    "        #sorting for the shortest distance.\n",
    "        df_dist_sort= df.sort_values(by=['Distance']).reset_index(drop=True)\n",
    "        price= df_dist_sort['price'][:n_neighbours]\n",
    "        #recommending mean price.\n",
    "        print(\"Mean price: \", price.mean())\n",
    "        \n",
    "    \n",
    "    \n",
    "    "
   ]
  },
  {
   "cell_type": "code",
   "execution_count": 41,
   "metadata": {},
   "outputs": [
    {
     "name": "stdout",
     "output_type": "stream",
     "text": [
      "Mean price:  195.83333333333334\n"
     ]
    }
   ],
   "source": [
    "recommend_price(df, 10.23, 13.45, 6, \"Entire home/apt\") # function call with any values of User enter."
   ]
  },
  {
   "cell_type": "code",
   "execution_count": 42,
   "metadata": {},
   "outputs": [
    {
     "data": {
      "text/plain": [
       "array(['Private room', 'Entire home/apt', 'Hotel room', 'Shared room'],\n",
       "      dtype=object)"
      ]
     },
     "execution_count": 42,
     "metadata": {},
     "output_type": "execute_result"
    }
   ],
   "source": [
    "df['room_type'].unique() # to choose of "
   ]
  }
 ],
 "metadata": {
  "colab": {
   "collapsed_sections": [],
   "name": "Part1_2.ipynb",
   "provenance": [],
   "toc_visible": true
  },
  "kernelspec": {
   "display_name": "Python 3",
   "language": "python",
   "name": "python3"
  },
  "language_info": {
   "codemirror_mode": {
    "name": "ipython",
    "version": 3
   },
   "file_extension": ".py",
   "mimetype": "text/x-python",
   "name": "python",
   "nbconvert_exporter": "python",
   "pygments_lexer": "ipython3",
   "version": "3.7.1"
  }
 },
 "nbformat": 4,
 "nbformat_minor": 1
}
